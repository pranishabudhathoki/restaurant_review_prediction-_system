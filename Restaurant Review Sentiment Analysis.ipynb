{
 "cells": [
  {
   "cell_type": "code",
   "execution_count": 85,
   "id": "cc214120",
   "metadata": {},
   "outputs": [],
   "source": [
    "import pandas as pd\n",
    "import numpy as np\n",
    "import matplotlib.pyplot as plt\n",
    "import seaborn as sns\n",
    "from sklearn.feature_extraction.text import CountVectorizer\n",
    "from sklearn.model_selection import train_test_split\n",
    "from sklearn.naive_bayes import MultinomialNB\n",
    "from sklearn.metrics import accuracy_score"
   ]
  },
  {
   "cell_type": "code",
   "execution_count": null,
   "id": "102a3a2d",
   "metadata": {},
   "outputs": [],
   "source": []
  },
  {
   "cell_type": "code",
   "execution_count": 86,
   "id": "d8738e9f",
   "metadata": {},
   "outputs": [],
   "source": [
    "#Loading the dataset of Restaurant Reviews\n",
    "df = pd.read_csv('Restaurant_Reviews.tsv', delimiter='\\t', quoting=3)"
   ]
  },
  {
   "cell_type": "code",
   "execution_count": 87,
   "id": "6a2ad948",
   "metadata": {},
   "outputs": [
    {
     "data": {
      "text/plain": [
       "(1000, 2)"
      ]
     },
     "execution_count": 87,
     "metadata": {},
     "output_type": "execute_result"
    }
   ],
   "source": [
    "df.shape"
   ]
  },
  {
   "cell_type": "code",
   "execution_count": 88,
   "id": "3b3b40a7",
   "metadata": {},
   "outputs": [
    {
     "data": {
      "text/html": [
       "<div>\n",
       "<style scoped>\n",
       "    .dataframe tbody tr th:only-of-type {\n",
       "        vertical-align: middle;\n",
       "    }\n",
       "\n",
       "    .dataframe tbody tr th {\n",
       "        vertical-align: top;\n",
       "    }\n",
       "\n",
       "    .dataframe thead th {\n",
       "        text-align: right;\n",
       "    }\n",
       "</style>\n",
       "<table border=\"1\" class=\"dataframe\">\n",
       "  <thead>\n",
       "    <tr style=\"text-align: right;\">\n",
       "      <th></th>\n",
       "      <th>Review</th>\n",
       "      <th>Liked</th>\n",
       "    </tr>\n",
       "  </thead>\n",
       "  <tbody>\n",
       "    <tr>\n",
       "      <th>0</th>\n",
       "      <td>Wow... Loved this place.</td>\n",
       "      <td>1</td>\n",
       "    </tr>\n",
       "    <tr>\n",
       "      <th>1</th>\n",
       "      <td>Crust is not good.</td>\n",
       "      <td>0</td>\n",
       "    </tr>\n",
       "    <tr>\n",
       "      <th>2</th>\n",
       "      <td>Not tasty and the texture was just nasty.</td>\n",
       "      <td>0</td>\n",
       "    </tr>\n",
       "    <tr>\n",
       "      <th>3</th>\n",
       "      <td>Stopped by during the late May bank holiday of...</td>\n",
       "      <td>1</td>\n",
       "    </tr>\n",
       "    <tr>\n",
       "      <th>4</th>\n",
       "      <td>The selection on the menu was great and so wer...</td>\n",
       "      <td>1</td>\n",
       "    </tr>\n",
       "    <tr>\n",
       "      <th>...</th>\n",
       "      <td>...</td>\n",
       "      <td>...</td>\n",
       "    </tr>\n",
       "    <tr>\n",
       "      <th>995</th>\n",
       "      <td>I think food should have flavor and texture an...</td>\n",
       "      <td>0</td>\n",
       "    </tr>\n",
       "    <tr>\n",
       "      <th>996</th>\n",
       "      <td>Appetite instantly gone.</td>\n",
       "      <td>0</td>\n",
       "    </tr>\n",
       "    <tr>\n",
       "      <th>997</th>\n",
       "      <td>Overall I was not impressed and would not go b...</td>\n",
       "      <td>0</td>\n",
       "    </tr>\n",
       "    <tr>\n",
       "      <th>998</th>\n",
       "      <td>The whole experience was underwhelming, and I ...</td>\n",
       "      <td>0</td>\n",
       "    </tr>\n",
       "    <tr>\n",
       "      <th>999</th>\n",
       "      <td>Then, as if I hadn't wasted enough of my life ...</td>\n",
       "      <td>0</td>\n",
       "    </tr>\n",
       "  </tbody>\n",
       "</table>\n",
       "<p>1000 rows × 2 columns</p>\n",
       "</div>"
      ],
      "text/plain": [
       "                                                Review  Liked\n",
       "0                             Wow... Loved this place.      1\n",
       "1                                   Crust is not good.      0\n",
       "2            Not tasty and the texture was just nasty.      0\n",
       "3    Stopped by during the late May bank holiday of...      1\n",
       "4    The selection on the menu was great and so wer...      1\n",
       "..                                                 ...    ...\n",
       "995  I think food should have flavor and texture an...      0\n",
       "996                           Appetite instantly gone.      0\n",
       "997  Overall I was not impressed and would not go b...      0\n",
       "998  The whole experience was underwhelming, and I ...      0\n",
       "999  Then, as if I hadn't wasted enough of my life ...      0\n",
       "\n",
       "[1000 rows x 2 columns]"
      ]
     },
     "execution_count": 88,
     "metadata": {},
     "output_type": "execute_result"
    }
   ],
   "source": [
    "df"
   ]
  },
  {
   "cell_type": "code",
   "execution_count": 89,
   "id": "1577e12e",
   "metadata": {},
   "outputs": [
    {
     "name": "stdout",
     "output_type": "stream",
     "text": [
      "<class 'pandas.core.frame.DataFrame'>\n",
      "RangeIndex: 1000 entries, 0 to 999\n",
      "Data columns (total 2 columns):\n",
      " #   Column  Non-Null Count  Dtype \n",
      "---  ------  --------------  ----- \n",
      " 0   Review  1000 non-null   object\n",
      " 1   Liked   1000 non-null   int64 \n",
      "dtypes: int64(1), object(1)\n",
      "memory usage: 15.8+ KB\n"
     ]
    }
   ],
   "source": [
    "df.info()"
   ]
  },
  {
   "cell_type": "code",
   "execution_count": 90,
   "id": "6e5c7940",
   "metadata": {},
   "outputs": [
    {
     "data": {
      "text/html": [
       "<div>\n",
       "<style scoped>\n",
       "    .dataframe tbody tr th:only-of-type {\n",
       "        vertical-align: middle;\n",
       "    }\n",
       "\n",
       "    .dataframe tbody tr th {\n",
       "        vertical-align: top;\n",
       "    }\n",
       "\n",
       "    .dataframe thead th {\n",
       "        text-align: right;\n",
       "    }\n",
       "</style>\n",
       "<table border=\"1\" class=\"dataframe\">\n",
       "  <thead>\n",
       "    <tr style=\"text-align: right;\">\n",
       "      <th></th>\n",
       "      <th>Liked</th>\n",
       "    </tr>\n",
       "  </thead>\n",
       "  <tbody>\n",
       "    <tr>\n",
       "      <th>count</th>\n",
       "      <td>1000.00000</td>\n",
       "    </tr>\n",
       "    <tr>\n",
       "      <th>mean</th>\n",
       "      <td>0.50000</td>\n",
       "    </tr>\n",
       "    <tr>\n",
       "      <th>std</th>\n",
       "      <td>0.50025</td>\n",
       "    </tr>\n",
       "    <tr>\n",
       "      <th>min</th>\n",
       "      <td>0.00000</td>\n",
       "    </tr>\n",
       "    <tr>\n",
       "      <th>25%</th>\n",
       "      <td>0.00000</td>\n",
       "    </tr>\n",
       "    <tr>\n",
       "      <th>50%</th>\n",
       "      <td>0.50000</td>\n",
       "    </tr>\n",
       "    <tr>\n",
       "      <th>75%</th>\n",
       "      <td>1.00000</td>\n",
       "    </tr>\n",
       "    <tr>\n",
       "      <th>max</th>\n",
       "      <td>1.00000</td>\n",
       "    </tr>\n",
       "  </tbody>\n",
       "</table>\n",
       "</div>"
      ],
      "text/plain": [
       "            Liked\n",
       "count  1000.00000\n",
       "mean      0.50000\n",
       "std       0.50025\n",
       "min       0.00000\n",
       "25%       0.00000\n",
       "50%       0.50000\n",
       "75%       1.00000\n",
       "max       1.00000"
      ]
     },
     "execution_count": 90,
     "metadata": {},
     "output_type": "execute_result"
    }
   ],
   "source": [
    "df.describe()  #it will give total count,mean,sd"
   ]
  },
  {
   "cell_type": "code",
   "execution_count": 91,
   "id": "f78f9afc",
   "metadata": {},
   "outputs": [
    {
     "data": {
      "text/plain": [
       "Index(['Review', 'Liked'], dtype='object')"
      ]
     },
     "execution_count": 91,
     "metadata": {},
     "output_type": "execute_result"
    }
   ],
   "source": [
    "df.columns"
   ]
  },
  {
   "cell_type": "code",
   "execution_count": 92,
   "id": "5927022c",
   "metadata": {},
   "outputs": [
    {
     "data": {
      "text/plain": [
       "2"
      ]
     },
     "execution_count": 92,
     "metadata": {},
     "output_type": "execute_result"
    }
   ],
   "source": [
    "df['Liked'].nunique()"
   ]
  },
  {
   "cell_type": "code",
   "execution_count": 93,
   "id": "15ad662d",
   "metadata": {},
   "outputs": [
    {
     "name": "stdout",
     "output_type": "stream",
     "text": [
      "[1 0]\n"
     ]
    }
   ],
   "source": [
    "print(df['Liked'].unique())"
   ]
  },
  {
   "cell_type": "code",
   "execution_count": 94,
   "id": "2ab69db2",
   "metadata": {},
   "outputs": [],
   "source": [
    "df.drop_duplicates(inplace=True)"
   ]
  },
  {
   "cell_type": "code",
   "execution_count": 95,
   "id": "d866e873",
   "metadata": {},
   "outputs": [],
   "source": [
    "df.reset_index(drop=True, inplace=True)"
   ]
  },
  {
   "cell_type": "code",
   "execution_count": 96,
   "id": "b3985329",
   "metadata": {},
   "outputs": [
    {
     "data": {
      "text/plain": [
       "(996, 2)"
      ]
     },
     "execution_count": 96,
     "metadata": {},
     "output_type": "execute_result"
    }
   ],
   "source": [
    "df.shape"
   ]
  },
  {
   "cell_type": "code",
   "execution_count": 97,
   "id": "ee505638",
   "metadata": {},
   "outputs": [
    {
     "data": {
      "text/plain": [
       "1    499\n",
       "0    497\n",
       "Name: Liked, dtype: int64"
      ]
     },
     "execution_count": 97,
     "metadata": {},
     "output_type": "execute_result"
    }
   ],
   "source": [
    "df['Liked'].value_counts()"
   ]
  },
  {
   "cell_type": "code",
   "execution_count": 98,
   "id": "056317b9",
   "metadata": {},
   "outputs": [],
   "source": [
    "#visualizations"
   ]
  },
  {
   "cell_type": "code",
   "execution_count": 99,
   "id": "5375cb16",
   "metadata": {},
   "outputs": [
    {
     "data": {
      "image/png": "[encoded data removed]",
      "text/plain": [
       "<Figure size 576x360 with 1 Axes>"
      ]
     },
     "metadata": {
      "needs_background": "light"
     },
     "output_type": "display_data"
    }
   ],
   "source": [
    "plt.figure(figsize=(8,5))\n",
    "sns.countplot(x=df.Liked);"
   ]
  },
  {
   "cell_type": "code",
   "execution_count": 100,
   "id": "998cb5df",
   "metadata": {},
   "outputs": [],
   "source": [
    "x=df['Review'].values\n",
    "y=df['Liked'].values"
   ]
  },
  {
   "cell_type": "code",
   "execution_count": 101,
   "id": "9b4b8492",
   "metadata": {},
   "outputs": [
    {
     "name": "stderr",
     "output_type": "stream",
     "text": [
      "[nltk_data] Downloading package stopwords to C:\\Users\\MY\n",
      "[nltk_data]     PC\\AppData\\Roaming\\nltk_data...\n",
      "[nltk_data]   Package stopwords is already up-to-date!\n"
     ]
    }
   ],
   "source": [
    "import re #library for simplifying reviews\n",
    "import nltk\n",
    "nltk.download('stopwords') #downloading all the stopwords\n",
    "from nltk.corpus import stopwords #importing stopwords to our notebook\n",
    "from nltk.stem.porter import PorterStemmer #Stemming is a process that converts a word to its root eg loved => love, stayed => stay.\n",
    "# this is necessary to optimise the dimention of the sparse matrix that will be made.\n",
    "\n",
    "\n",
    "corpus = [] # new list that will contain all the cleaned reviews\n",
    "for i in range(0,df.shape[0]):\n",
    "    #remove punctuation by replacing all punctuation with space\n",
    "    review = re.sub(\"[^a-zA-z | ^\\w+'t]\",' ', df['Review'][i])\n",
    "    \n",
    "    #transform all capital letters to lower case\n",
    "    review = review.lower()\n",
    "    \n",
    "    #split review to different words to apply stemming\n",
    "    review = review.split()\n",
    "    \n",
    "    #stemming and also ignoring stopwords alongside\n",
    "    ps = PorterStemmer()\n",
    "    all_stopwords=stopwords.words('english')\n",
    "    r_words=['no','not','off','nor',\"didn't\",\"isn't\",\"couldn't\",\"haven't\",'or',\"should've\",\"aren't\",\n",
    "             \"couldn\",\"didn\",\"doesn't\",'doesn',\"don't\",'don','hadn',\"hadn't\",'hasn',\"hasn't\",'haven',\n",
    "             'mightn',\"mightn't\",'mustn',\"mustn't\",\"needn't\",'needn',\"shouldn\",\"shouldn't\",'wasn',\n",
    "             \"wasn't\",\"won't\",\"won\",\"wouldn't\",\"because\",\"same\",'wouldn','should']\n",
    "    for words in r_words:\n",
    "        all_stopwords.remove(words)\n",
    "    review = [ps.stem(word) for word in review if not word in set(all_stopwords)]\n",
    "    \n",
    "    #joining words together to form a cleaned review\n",
    "    review = ' '.join(review)\n",
    "    corpus.append(review)"
   ]
  },
  {
   "cell_type": "code",
   "execution_count": 102,
   "id": "587880c6",
   "metadata": {},
   "outputs": [
    {
     "name": "stdout",
     "output_type": "stream",
     "text": [
      "['wow love place', 'crust not good', 'not tasti textur nasti', 'stop late may bank holiday off rick steve recommend love', 'select menu great price', 'get angri want damn pho', \"honeslti didn't tast fresh\", 'potato like rubber could tell made ahead time kept warmer', 'fri great', 'great touch', 'servic prompt', 'would not go back', 'cashier no care ever say still end wayyy overpr', 'tri cape cod ravoli chicken cranberri mmmm', 'disgust becaus pretti sure human hair', 'shock becaus no sign indic cash', 'highli recommend', 'waitress littl slow servic', 'place not worth time let alon vega', 'not like', 'burritto blah', 'food amaz', 'servic also cute', 'could care less interior beauti', 'perform', \"that' right red velvet cake ohhh stuff good\", 'never brought salad ask', 'hole wall great mexican street taco friendli staff', 'took hour get food 4 tabl restaur food luke warm sever run around like total overwhelm', 'worst salmon sashimi', 'also combo like burger fri beer 23 decent deal', 'like final blow', 'found place accid could not happier', 'seem like good quick place grab bite familiar pub food favor look elsewher', 'overal like place lot', 'redeem qualiti restaur inexpens', 'ampl portion good price', 'poor servic waiter made feel like stupid everi time came tabl', 'first visit hiro delight', 'servic suck', 'shrimp tender moist', 'not deal good enough would drag establish', \"hard judg whether side good becaus gross melt styrofoam didn't want eat fear get sick\", 'posit note server attent provid great servic', 'frozen puck disgust worst peopl behind regist', 'thing like prime rib dessert section', 'bad food damn gener', 'burger good beef cook right', 'want sandwich go firehous', 'side greek salad greek dress tasti pita hummu refresh', 'order duck rare pink tender insid nice char outsid', 'came run us realiz husband left sunglass tabl', 'chow mein good', \"horribl attitud toward custom talk one custom don't enjoy food\", 'portion huge', 'love friendli server great food wonder imagin menu', 'heart attack grill downtown vega absolut flat line excus restaur', 'not much seafood like 5 string pasta bottom', 'salad right amount sauc not power scallop perfectli cook', 'rip banana not rip petrifi tasteless', 'least think refil water struggl wave 10 minut', 'place receiv star appet', 'cocktail handmad delici', \"we'd definit go back\", 'glad found place', 'great food servic huge portion give militari discount', 'alway great time do gringo', 'updat went back second time still amaz', 'got food appar never heard salt batter fish chewi', 'great way finish great', 'deal includ 5 tast 2 drink jeff went beyond expect', 'realli realli good rice time', 'servic meh', 'took 30 min get milkshak noth chocol milk', \"guess should known place would suck becaus insid excalibur didn't use common sens\", 'scallop dish quit appal valu well', '2 time bad custom servic', 'sweet potato fri good season well', \"today second time i'v lunch buffet pretti good\", 'much good food vega feel cheat wast eat opportun go rice compani', \"come like experienc underwhelm relationship parti can't wait person ask break\", 'walk place smell like old greas trap 2 other eat', 'turkey roast beef bland', 'place', 'pan cake everyon rave tast like sugari disast tailor palat six year old', 'love pho spring roll oh yummi tri', 'poor batter meat ratio made chicken tender unsatisfi', 'say food amaz', 'omelet die', 'everyth fresh delici', 'summari larg disappoint dine experi', 'like realli sexi parti mouth outrag flirt hottest person parti', 'never hard rock casino never ever step forward', 'best breakfast buffet', 'say bye bye tip ladi', \"we'll never go\", 'back', 'food arriv quickli', 'not good', 'side cafe serv realli good food', 'server fantast found wife love roast garlic bone marrow ad extra meal anoth marrow go', \"good thing waiter help kept bloddi mary' come\", 'best buffet town price cannot beat', 'love mussel cook wine reduct duck tender potato dish delici', 'one better buffet', 'went tigerlilli fantast afternoon', 'food delici bartend attent person got great deal', 'ambienc wonder music play', 'go back next trip', 'sooooo good', \"real sushi lover let' honest yama not good\", \"least 40min pass us order food arriv wasn't busi\", 'realli fantast thai restaur definit worth visit', 'nice spici tender', 'good price', 'check', 'pretti gross', \"i'v better atmospher\", 'kind hard mess steak', 'although much like look sound place actual experi bit disappoint', \"don't know place manag serv blandest food ever eaten prepar indian cuisin\", 'worst servic boot least worri', 'servic fine waitress friendli', \"guy steak steak love son steak best worst place said best steak he' ever eaten\", 'thought ventur away get good sushi place realli hit spot night', 'host staff lack better word bitch', \"bland not like place number reason don't want wast time bad review i'll leav\", 'phenomen food servic ambianc', \"wouldn't return\", \"definit worth ventur off strip pork belli return next time i'm vega\", 'place way overpr mediocr food', 'penn vodka excel', 'good select food includ massiv meatloaf sandwich crispi chicken wrap delish tuna melt tasti burger', 'manag rude', 'delici nyc bagel good select cream chees real lox caper even', 'great subway fact good come everi subway not meet expect', 'serious solid breakfast', 'one best bar food vega', 'extrem rude realli mani restaur would love dine weekend vega', 'drink never empti made realli great menu suggest', \"don't\", \"waiter wasn't help or friendli rare check us\", 'husband ate lunch disappoint food servic', \"red curri much bamboo shoot wasn't tasti\", 'nice blanket moz top feel like done cover subpar food', 'bathroom clean place well decor', 'menu alway chang food qualiti go servic extrem slow', 'servic littl slow consid serv 3 peopl server food come slow pace', 'give 2 thumb', 'watch waiter pay lot attent tabl ignor us', 'fiancé came middl day greet seat right away', 'great restaur mandalay bay', 'wait forti five minut vain', 'crostini came salad stale', 'highlight great qualiti nigiri', 'staff friendli joint alway clean', 'differ cut piec day still wonder tender well well flavor', \"order voodoo pasta first time i'd realli excel pasta sinc go gluten free sever year ago\", 'place good', 'unfortun must hit bakeri leftov day becaus everyth order stale', 'came back today sinc reloc still not impress', 'seat immedi', 'menu divers reason price', 'avoid cost', 'restaur alway full never wait', 'delici', 'place hand one best place eat phoenix metro area', \"don't go look good food\", \"i'v never treat bad\", 'bacon hella salti', 'also order spinach avocado salad ingredi sad dress liter zero tast', 'realli vega fine dine use right menu hand ladi no price list', 'waitress friendli', 'lordi khao soi dish not miss curri lover', 'everyth menu terrif also thrill made amaz accommod vegetarian daughter', \"perhap caught off night judg review i'm not inspir go back\", 'servic leav lot desir', 'atmospher modern hip maintain touch cozi', 'not weekli haunt definit place come back everi', 'liter sat 20 minut no one ask take order', 'burger absolut no flavor meat total bland burger overcook no charcoal flavor', 'also decid not send back becaus waitress look like verg heart attack', 'dress treat rude', 'probabl dirt', 'love place hit spot want someth healthi not lack quantiti or flavor', 'order lemon raspberri ice cocktail also incred', 'food suck expect suck could imagin', 'interest decor', 'realli like crepe station', 'also serv hot bread butter home made potato chip bacon bit top origin good', 'watch prepar delici food', 'egg roll fantast', 'order arriv one gyro miss', 'salad wing ice cream dessert left feel quit satisfi', \"i'm not realli sure joey' vote best hot dog valley reader phoenix magazin\", 'best place go tasti bowl pho', 'live music friday total blow', \"i'v never insult or felt disrespect\", 'friendli staff', 'worth drive', 'heard good thing place exceed everi hope could dream', 'food great serivc', \"warm beer didn't help\", 'great brunch spot', 'servic friendli invit', 'good lunch spot', \"i'v live sinc 1979 first last time i'v step foot place\", 'worst experi ever', 'must off night place', 'side delish mix mushroom yukon gold pure white corn beateou', 'bug never show would given 4 sure side wall bug climb kitchen', \"10 minut we'r wait salad realiz wasn't come time soon\", 'friend love salmon tartar', \"won't go back\", 'extrem tasti', 'waitress good though', 'soggi not good', 'jamaican mojito delici', 'small not worth price', 'food rich order accordingli', \"shower area outsid rins not take full shower unless don't mind nude everyon see\", 'servic bit lack', 'lobster bisqu bussel sprout risotto filet need salt pepper cours none tabl', 'hope bode go busi someon cook come', 'either cold not enough flavor or bad', 'love bacon wrap date', 'unbeliev bargain', 'folk otto alway make us feel welcom special', 'main also uninspir', 'place first pho amaz', 'wonder experi made place must stop whenev town', \"food isn't bad enough enjoy deal world' worst annoy drunk peopl\", 'fun chef', 'order doubl cheeseburg got singl patti fall apart pictur upload yeah still suck', \"great place coupl drink watch sport event wall cover tv'\", \"possibl give zero star they'd\", 'descript said yum yum sauc anoth said eel sauc yet anoth said spici mayo well none roll sauc', \"i'd say would hardest decis honestli m' dish tast suppos tast amaz\", 'not roll eye may stay not sure go back tri', 'everyon attent provid excel custom servic', \"horribl don't wast time money\", 'dish quit flavour', 'time side restaur almost empti no excus', \"wasn't busi either also build freez cold\", \"like review said couldn't pay eat place\", 'drink took close 30 minut come one point', 'serious flavor delight folk', 'much better ayc sushi place went vega', 'light dark enough set mood', \"base sub par servic receiv no effort show gratitud busi won't go back\", \"owner' realli great peopl\", 'noth privileg work eat', 'greek dress creami flavor', \"overal don't think would take parent place becaus made similar complaint silent felt\", 'pizza good peanut sauc tasti', '7 tabl servic pretti fast', 'fantast servic', \"well would'v given godfath zero star possibl\", 'know make', 'tough short flavor', 'hope place stick around', 'bar vega not ever recal charg tap water', 'restaur atmospher exquisit', 'good servic clean inexpens boot', 'seafood fresh gener portion', 'plu 8 buck', 'servic not par either', 'thu far visit twice food absolut delici time', 'good year ago', 'self proclaim coffe cafe wildli disappoint', 'veggitarian platter world', 'cant go wrong food', \"can't beat\", 'stop place madison ironman friendli kind staff', 'chef friendli good job', \"i'v better not dedic boba tea spot even jenni pho\", 'like patio servic outstand', \"goat taco didn't skimp meat wow flavor\", 'think not', 'mac salad pretti bland not get', \"went bachi burger friend' recommend not disappoint\", 'servic stink', 'wait wait', 'place not qualiti sushi not qualiti restaur', 'would definit recommend wing well pizza', 'great pizza salad', 'thing went wrong burn saganaki', 'wait hour breakfast could done 100 time better home', 'place amaz', 'hate disagre fellow yelper husband disappoint place', 'wait 2 hour never got either pizza mani around us came later', \"don't know slow\", 'staff great food delish incred beer select', \"live neighborhood disappoint won't back becaus conveni locat\", \"didn't know pull pork could soooo delici\", 'get incred fresh fish prepar care', 'go gave 1 star rate pleas know third time eat bachi burger write review', 'love fact everyth menu worth', 'never dine place', 'food excel servic good', 'good beer drink select good food select', 'pleas stay away shrimp stir fri noodl', 'potato chip order sad could probabl count mani chip box probabl around 12', 'food realli bore', 'good servic check', 'greedi corpor never see anoth dime', 'never ever go back', \"much i'd like go back can't get pass atroci servic never return\", 'summer dine charm outdoor patio delight', 'not expect good', 'fantast food', 'order toast english muffin came untoast', 'food good', 'never go back', 'great food price high qualiti hous made', 'bu boy hand rude', \"point friend basic figur place joke didn't mind make publicli loudli known\", 'back good bbq lighter fare reason price tell public back old way', \"consid two us left full happi 20 can't go wrong\", 'bread made hous', 'downsid servic', \"also fri without doubt worst fri i'v ever\", 'servic except food good review', 'coupl month later return amaz meal', 'favorit place town shawarrrrrrma', 'black eye pea sweet potato unreal', \"won't disappoint\", 'could serv vinaigrett may make better overal dish still good', \"go far mani place i'v never seen restaur serv 1 egg breakfast especi 4 00\", 'mom got home immedi got sick bite salad', \"server not pleasant deal don't alway honor pizza hut coupon\", 'truli unbeliev good glad went back', 'fantast servic pleas atmospher', 'everyth gross', 'love place', 'great servic food', 'first bathroom locat dirti seat cover not replenish plain yucki', 'burger got gold standard 17 burger kind disappoint', 'omg food delicioso', 'noth authent place', 'spaghetti noth special whatsoev', 'dish salmon best great', 'veget fresh sauc feel like authent thai', 'worth drive tucson', \"select probabl worst i'v seen vega none\", 'pretti good beer select', 'place like chipotl better', 'classi warm atmospher fun fresh appet succul steak basebal steak', '5 star brick oven bread app', 'eaten multipl time time food delici', 'sat anoth ten minut final gave left', 'terribl', 'everyon treat equal special', \"shouldn't take 30 min pancak egg\", 'delici', 'good side staff genuin pleasant enthusiast real treat', \"sadli gordon ramsey' steak place shall sharpli avoid next trip vega\", 'alway even wonder food delici', \"best fish i'v ever life\", 'bathroom next door nice', 'buffet small food offer bland', 'outstand littl restaur best food ever tast', 'pretti cool would say', \"definit turn off doubt i'll back unless someon els buy\", 'server great job handl larg rowdi tabl', \"find wast food despic wasn't food\", 'wife lobster bisqu soup lukewarm', 'would come back sushi crave vega', 'staff great ambianc great', 'deserv 5 star', 'left stomach ach felt sick rest day', 'drop ball', 'dine space tini elegantli decor comfort', 'custom order way like usual eggplant green bean stir fri love', 'bean rice mediocr best', 'best taco town far', 'took back money got outta', 'interest part town place amaz', 'rude inconsider manag', 'staff not friendli wait time serv horribl no one even say hi first 10 minut', \"won't back\", 'great dinner', 'servic outshin definit recommend halibut', 'food terribl', 'never ever go back told mani peopl happen', \"don't recommend unless car break front starv\", \"come back everi time i'm vega\", 'place deserv one star 90 food', 'disgrac', 'def come back bowl next time', 'want healthi authent or ethic food tri place', 'continu come ladi night andddd date night highli recommend place anyon area', 'sever time past experi alway great', 'walk away stuf happi first vega buffet experi', 'servic excel price pretti reason consid vega locat insid crystal shop mall aria', 'summar food incred nay transcend noth bring joy quit like memori pneumat condiment dispens', \"i'm probabl one peopl ever go ian not like\", 'kid pizza alway hit lot great side dish option kiddo', 'servic perfect famili atmospher nice see', 'cook perfect servic impecc', 'one simpli disappoint', 'overal disappoint qualiti food bouchon', \"don't account know i'm get screw\", 'great place eat remind littl mom pop shop san francisco bay area', 'today first tast buldogi gourmet hot dog tell ever thought possibl', 'left frustrat', \"i'll definit soon\", 'food realli good got full petti fast', 'servic fantast', 'total wast time', \"don't know kind best ice tea\", 'come hungri leav happi stuf', 'servic give no star', \"assur won't disappoint\", 'take littl bad servic food suck', 'gave tri eat crust teeth still sore', 'complet gross', 'realli enjoy eat', 'first time go think quickli becom regular', 'server nice even though look littl overwhelm need stay profession friendli end', 'dinner companion told everyth fresh nice textur tast', 'ground right next tabl larg smear step track everywher pile green bird poop', \"furthermor can't even find hour oper websit\", \"we'v tri like place 10+ time think we'r done\", 'mistak', 'no complaint', \"serious good pizza i'm expert connisseur topic\", 'waiter jerk', 'strike 2 want rush', \"nicest restaur owner i'v ever come across\", 'never come', 'love biscuit', 'servic quick friendli', 'order appet took 40 minut pizza anoth 10 minut', 'absolutley fantast', 'huge awkward 1 5lb piec cow 3 4th gristl fat', 'definit come back', 'like steiner becaus dark feel like bar', 'wow spici delici', 'not familiar check', \"i'll take busi dinner dollar elsewher\", \"i'd love go back\", 'anyway fs restaur wonder breakfast lunch', 'noth special', 'day week differ deal delici', 'not mention combin pear almond bacon big winner', 'not back', 'sauc tasteless', 'food delici spici enough sure ask spicier prefer way', 'ribey steak cook perfectli great mesquit flavor', \"don't think we'll go back anytim soon\", 'food gooodd', 'far sushi connoisseur definit tell differ good food bad food certainli bad food', 'insult', 'last 3 time lunch bad', 'chicken wing contain driest chicken meat ever eaten', 'food good enjoy everi mouth enjoy relax venu coupl small famili group etc', 'nargil think great', 'best tater tot southwest', 'love place', 'definit not worth 3 paid', 'vanilla ice cream creami smooth profiterol choux pastri fresh enough', 'im az time new spot', 'manag worst', 'insid realli quit nice clean', 'food outstand price reason', \"don't think i'll run back carly' anytim soon food\", 'due fact took 20 minut acknowledg anoth 35 minut get food kept forget thing', 'love margarita', 'first vega buffet not disappoint', 'good though', 'one note ventil could use upgrad', 'great pork sandwich', \"don't wast time\", 'total letdown would much rather go camelback flower shop cartel coffe', \"third chees friend' burger cold\", 'enjoy pizza brunch', 'steak well trim also perfectli cook', 'group 70+ claim would 40 handl us beauti', 'love', \"ask bill leav without eat didn't bring either\", \"place jewel la vega exactli i'v hope find nearli ten year live\", 'seafood limit boil shrimp crab leg crab leg definit not tast fresh', 'select food not best', 'delici absolut back', \"isn't small famili restaur fine dine establish\", 'toro tartar cavier extraordinari like thinli slice wagyu white truffl', 'dont think back long time', 'attach ga station rare good sign', 'awesom', 'back mani time soon', 'menu much good stuff could not decid', 'wors humili worker right front bunch horribl name call', 'conclus fill meal', 'daili special alway hit group', 'tragedi struck', 'pancak also realli good pretti larg', 'first crawfish experi delici', 'monster chicken fri steak egg time favorit', 'waitress sweet funni', \"also tast mom' multi grain pumpkin pancak pecan butter amaz fluffi delici\", \"i'd rather eat airlin food serious\", 'cant say enough good thing place', 'ambianc incred', 'waitress manag friendli', 'would not recommend place', \"overal wasn't impress noca\", 'gyro basic lettuc', 'terribl servic', 'thoroughli disappoint', \"don't much pasta love homemad hand made pasta thin pizza\", 'give tri happi', 'far best cheesecurd ever', 'reason price also', 'everyth perfect night', 'food good typic bar food', 'drive get', 'first glanc love bakeri cafe nice ambianc clean friendli staff', 'anyway not think go back', \"point finger item menu order won't disappoint\", 'oh thing beauti restaur', \"haven't gone go\", 'greasi unhealthi meal', 'first time might last', 'burger amaz', 'similarli deliveri man not say word apolog food 45 minut late', 'way expens', 'sure order dessert even need pack go tiramisu cannoli die', \"first time can't wait next\", 'bartend also nice', 'everyth good tasti', 'place two thumb way', 'best place vega breakfast check sat or sun', 'love authent mexican food want whole bunch interest yet delici meat choos need tri place', 'terribl manag', 'excel new restaur experienc frenchman', 'zero star would give zero star', 'great steak great side great wine amaz dessert', 'worst martini ever', 'steak shrimp opinion best entre gc', 'opportun today sampl amaz pizza', 'wait thirti minut seat although 8 vacant tabl folk wait', 'yellowtail carpaccio melt mouth fresh', \"won't tri go back even empti\", \"no i'm go eat potato found stranger hair\", 'spici enough perfect actual', 'last night second time dine happi decid go back', 'not even hello right', 'dessert bit strang', 'boyfriend came first time recent trip vega could not pleas qualiti food servic', 'realli recommend place go wrong donut place', 'nice ambianc', 'would recommend save room', 'guess mayb went off night disgrac', 'howev recent experi particular locat not good', 'know not like restaur someth off', 'avoid establish', 'think restaur suffer not tri hard enough', 'tapa dish delici', 'heart place', 'salad bland vinegrett babi green heart palm', 'two felt disgust', 'good time', 'believ place great stop huge belli hanker sushi', 'gener portion great tast', 'never go back place never ever recommend place anyon', 'server went back forth sever time not even much help', 'food delici', 'hour serious', 'consid theft', 'eew locat need complet overhaul', 'recent wit poor qualiti manag toward guest well', 'wait wait wait', 'also came back check us regularli excel servic', 'server super nice check us mani time', 'pizza tast old super chewi not good way', 'swung give tri deepli disappoint', 'servic good compani better', 'staff also friendli effici', \"servic i'm fan becaus quick serv nice folk\", 'boy sucker dri', 'rate', 'look authent thai food go els', 'steak 100 recommend', 'pull car wait anoth 15 minut acknowledg', 'great food great servic clean friendli set', \"assur i'll back\", 'hate thing much cheap qualiti black oliv', 'breakfast perpar great beauti present 3 giant slice toast lightli dust powder sugar', 'kid play area nasti', 'great place fo take or eat', 'waitress friendli happi accomod vegan veggi option', 'omg felt like never eaten thai food dish', 'extrem crumbi pretti tasteless', 'pale color instead nice char no flavor', 'crouton also tast homemad extra plu', 'got home see driest damn wing ever', \"it'll regular stop trip phoenix\", 'realli enjoy crema café expand even told friend best breakfast', 'not good money', 'miss wish one philadelphia', 'got sit fairli fast end wait 40 minut place order anoth 30 minut food arriv', 'also best chees crisp town', 'good valu great food great servic', \"couldn't ask satisfi meal\", 'food good', 'awesom', 'want leav', 'made drive way north scottsdal not one bit disappoint', 'not eat', 'owner realli realli need quit soooooo cheap let wrap freak sandwich two paper not one', 'check place coupl year ago not impress', 'chicken got definit reheat ok wedg cold soggi', 'sorri not get food anytim soon', 'absolut must visit', 'cow tongu cheek taco amaz', 'friend not like bloodi mari', 'despit hard rate busi actual rare give 1 star', 'realli want make experi good one', 'not return', 'chicken pho tast bland', 'disappoint', 'grill chicken tender yellow saffron season', 'drive thru mean not want wait around half hour food somehow end go make us wait wait', 'pretti awesom place', 'ambienc perfect', 'best luck rude non custom servic focus new manag', 'grandmoth make roast chicken better one', 'ask multipl time wine list time ignor went hostess got one', 'staff alway super friendli help especi cool bring two small boy babi', 'four star food guy blue shirt great vibe still let us eat', 'roast beef sandwich tast realli good', 'same even drastic sick', 'high qualiti chicken chicken caesar salad', \"order burger rare came we'll done\", 'promptli greet seat', 'tri go lunch madhous', 'proven dead wrong sushi bar not becaus qualiti great servic fast food impecc', 'wait hour seat not greatest mood', 'good joint', 'macaron insan good', \"i'm not eat\", 'waiter attent friendli inform', 'mayb cold would somewhat edibl', 'place lot promis fail deliv', 'bad experi', 'mistak', 'food averag best', 'great food', \"won't go back anytim soon\", 'disappoint order 35 big bay plater', 'great place relax awesom burger beer', 'perfect sit famili meal or get togeth friend', 'not much flavor poorli construct', 'patio seat comfort', 'fri rice dri well', 'hand favorit italian restaur', \"scream legit book somethat' also pretti rare vega\", 'not fun experi', 'atmospher great love duo violinist play song request', 'person love hummu pita baklava falafel baba ganoush amaz eggplant', 'conveni sinc stay mgm', 'owner super friendli staff courteou', 'great', 'eclect select', 'sweet potato tot good onion ring perfect or close', 'staff attent', 'chef gener time even came around twice take pictur', 'owner use work nobu place realli similar half price', 'googl mediocr imagin smashburg pop', 'dont go', \"promis won't disappoint\", 'sushi lover avoid place mean', 'great doubl cheeseburg', 'awesom servic food', 'fantast neighborhood gem', \"can't wait go back\", \"plantain worst i'v ever tast\", 'great place highli recommend', 'servic slow not attent', \"gave 5 star i'm give 5 star\", 'staff spend time talk', 'dessert panna cotta amaz', 'good food great atmospher 1', 'damn good steak', 'total brunch fail', 'price reason flavor spot sauc home made slaw not drench mayo', 'decor nice piano music soundtrack pleasant', 'steak amaz rge fillet relleno best seafood plate ever', 'good food good servic', 'absolut amaz', \"probabl won't back honest\", 'definit back', 'sergeant pepper beef sandwich auju sauc excel sandwich well', \"hawaiian breez mango magic pineappl delight smoothi i'v tri far they'r good\", 'went lunch servic slow', 'much say place walk expect amaz quickli disappoint', 'mortifi', 'needless say never back', 'anyway food definit not fill price pay should expect', 'chip came drip greas mostli not edibl', \"wasn't realli impress strip steak\", 'go sinc 2007 everi meal awesom', 'server nice attent serv staff', 'cashier friendli even brought food', 'work hospit industri paradis valley refrain recommend cibo longer', 'atmospher fun', 'would not recommend other', 'servic quick even go order like like', 'mean realli get famou fish chip terribl', 'said mouth belli still quit pleas', 'not thing', '2 thumb', \"read pleas don't go\", 'love grill pizza remind legit italian pizza', 'pro larg seat area nice bar area great simpl drink menu best brick oven pizza homemad dough', 'realli nice atmospher', 'tonight elk filet special suck', 'one bite hook', 'order old classic new dish go time sore disappoint everyth', 'cute quaint simpl honest', 'chicken delici season perfect fri outsid moist chicken insid', 'food great alway compliment chef', 'special thank dylan recommend order yummi tummi', 'awesom select beer', 'great food awesom servic', \"one nice thing ad gratuiti bill sinc parti larger 6 or 8 didn't expect tip\", 'fli appl juic fli', 'han nan chicken also tasti', 'servic thought good', 'food bare lukewarm must sit wait server bring us', \"ryan' bar definit one edinburgh establish won't revisit\", \"nicest chines restaur i'v\", 'overal like food servic', 'also serv indian naan bread hummu spici pine nut sauc world', \"probabl never come back wouldn't recommend\", \"friend' pasta also bad bare touch\", 'tri airport experi tasti food speedi friendli servic', 'love decor chines calligraphi wall paper', 'never anyth complain', 'restaur clean famili restaur feel', 'way fri', \"i'm not sure long stood long enough begin feel awkwardli place\", 'open sandwich impress not good way', 'not back', 'warm feel servic felt like guest special treat', 'extens menu provid lot option breakfast', 'alway order vegetarian menu dinner wide array option choos', 'watch price inflat portion get smaller manag attitud grow rapidli', 'wonder lil tapa ambienc made feel warm fuzzi insid', 'got enjoy seafood salad fabul vinegrett', 'wonton thin not thick chewi almost melt mouth', \"level 5 spici perfect spice didn't whelm soup\", 'sat right time server get go fantast', \"main thing didn't enjoy crowd older crowd around mid 30\", \"i'm side town definit spot i'll hit\", 'wait 30 minut get drink longer get 2 arepa', 'great place eat', 'jalapeno bacon soooo good', 'servic poor that nice', 'food good servic good price good', 'place not clean food oh stale', 'chicken dish ok beef like shoe leather', 'servic beyond bad', \"i'm happi\", 'tast like dirt', 'one place phoenix would defin go back', 'block amaz', 'close hous low key non fanci afford price good food', 'hot sour egg flower soup absolut 5 star', 'sashimi poor qualiti soggi tasteless', 'great time famili dinner sunday night', 'food not tasti not say real tradit hunan style', 'bother slow servic', 'flair bartend absolut amaz', 'frozen margarita way sugari tast', 'good order twice', 'nutshel 1 restaraunt smell like combin dirti fish market sewer', \"girlfriend' veal bad\", 'unfortun not good', 'pretti satifi experi', 'join club get awesom offer via email', 'perfect someon like beer ice cold or case even colder', 'bland flavorless good way describ bare tepid meat', \"chain i'm no fan beat place easili\", 'nacho must', 'not come back', \"don't mani word say place everyth pretti well\", 'staff super nice quick even crazi crowd downtown juri lawyer court staff', 'great atmospher friendli fast servic', 'receiv pita huge lot meat thumb', 'food arriv meh', \"pay 7 85 hot dog fri look like came kid' meal wienerschnitzel not idea good meal\", 'classic main lobster roll fantast', 'brother law work mall ate same day guess sick night', 'good go review place twice herea tribut place tribut event held last night', 'chip salsa realli good salsa fresh', 'place great', 'mediocr food', 'get insid impress place', \"i'm super pissd\", 'servic super friendli', 'sad littl veget overcook', 'place nice surpris', 'golden crispi delici', 'high hope place sinc burger cook charcoal grill unfortun tast fell flat way flat', 'could eat bruschetta day devin', 'not singl employe came see ok or even need water refil final serv us food', 'lastli mozzarella stick best thing order', 'first time ever came amaz experi still tell peopl awesom duck', 'server neglig need made us feel unwelcom would not suggest place', 'servic terribl though', 'place overpr not consist boba realli overpr', 'pack', 'say dessert yummi', 'season fruit fresh white peach pure', \"kept get wors wors i'm offici done\", 'place should honestli blown', 'definit would not eat', 'not wast money', 'love put food nice plastic contain oppos cram littl paper takeout box', 'crêpe delic thin moist', 'aw servic', \"won't ever go\", 'food qualiti horribl', 'price think place would much rather gone', 'servic fair best', 'love sushi found kabuki price hip servic', 'favor stay away dish', 'poor servic', 'no one tabl thought food averag or worth wait', 'best servic food ever maria server good friendli made day', 'excel', 'paid bill not tip becaus felt server terribl job', 'lunch great experi', 'never bland food surpris consid articl read focus much spice flavor', 'food way overpr portion fuck small', \"recent tri caballero' back everi week sinc\", '40 buck head realli expect better food', 'food came good pace', 'ate twice last visit especi enjoy salmon salad', 'could not believ dirti oyster', 'place deserv no star', \"fact i'm go round 4 star becaus awesom\", 'disbelief dish qualifi worst version food ever tast', 'bad day or not low toler rude custom servic peopl job nice polit wash dish otherwis', 'potato great biscuit', 'probabl would not go', 'flavor perfect amount heat', 'price reason servic great', 'wife hate meal coconut shrimp friend realli not enjoy meal either', \"fella got huevo ranchero didn't look appeal\", 'went happi hour great list wine', 'may say buffet pricey think get pay place get quit lot', \"probabl won't come back\", \"worst food servic i'v\", 'place pretti good nice littl vibe restaur', 'talk great custom servic cours back', 'hot dish not hot cold dish close room temp watch staff prepar food bare hand no glove everyth deep fri oil', 'love fri bean', 'alway pleasur deal', \"plethora salad sandwich everyth i'v tri get seal approv\", 'place awesom want someth light healthi summer', 'sushi strip place go', 'servic great even manag came help tabl', 'feel dine room colleg cook cours high class dine servic slow best', \"start review two star i'm edit give one\", \"worst sushi ever eat besid costco'\", 'excel restaur highlight great servic uniqu menu beauti set', 'boyfriend sat bar complet delight experi', 'weird vibe owner', 'hardli meat', \"i'v better bagel groceri store\", 'go place gyro', 'love owner chef one authent japanes cool dude', \"burger aren't good pizza use amaz doughi flavorless\", 'found six inch long piec wire salsa', 'servic terribl food mediocr', 'defin enjoy', 'order albondiga soup warm tast like tomato soup frozen meatbal', 'three differ occas ask well done or medium well three time got bloodiest piec meat plate', 'two bite refus eat anymor', 'servic extrem slow', '20 minut wait got tabl', 'serious killer hot chai latt', 'no allergi warn menu waitress absolut no clue meal or not contain peanut', 'boyfriend tri mediterranean chicken salad fell love', 'rotat beer tap also highlight place', 'price bit concern mellow mushroom', 'worst thai ever', 'stay vega must get breakfast least', 'want first say server great perfect servic', 'pizza select good', 'strawberri tea good', 'highli unprofession rude loyal patron', 'overal great experi', 'spend money elsewher', 'regular toast bread equal satisfi occasion pat butter mmmm', 'buffet bellagio far anticip', 'drink weak peopl', 'order not correct', 'also feel like chip bought not made hous', 'disappoint dinner went elsewher dessert', 'chip sal amaz', \"won't return\", 'new fav vega buffet spot', 'serious cannot believ owner mani unexperienc employe run around like chicken head cut off', 'sad', 'felt insult disrespect could talk judg anoth human like', \"call steakhous can't properli cook steak don't understand\", \"i'm not impress concept or food\", \"thing wasn't crazi guacamol don't like puré\", 'realli noth postino hope experi better', 'got food poison buffet', 'brought fresh batch fri think yay someth warm no', 'should hilari yummi christma eve dinner rememb biggest fail entir trip us', \"needless say won't go back anytim soon\", 'place disgust', 'everi time eat see care teamwork profession degre', 'ri style calamari joke', 'howev much garlic fondu bare edibl', \"could bare stomach meal didn't complain becaus busi lunch\", 'bad lost heart finish', 'also took forev bring us check ask', \"aren't one make scene restaur don't get definit lost love one\", 'disappoint experi', \"food par denny' say not good\", 'want wait mediocr food downright terribl servic place', 'waaaaaayyyyyyyyyi rate say', \"won't go back\", \"place fairli clean food simpli wasn't worth\", 'place lack style', 'sangria half glass wine full 12 ridicul', \"don't bother come\", 'meat pretti dri slice brisket pull pork', \"build seem pretti neat bathroom pretti trippi wouldn't eat\", 'equal aw', 'probabl not hurri go back', 'slow seat even reserv', 'not good stretch imagin', 'cashew cream sauc bland veget undercook', 'chipolt ranch dip saus tasteless seem thin water no heat', 'bit sweet not realli spici enough lack flavor', 'disappoint', 'place horribl way overpr', \"mayb vegetarian fare i'v twice thought averag best\", \"wasn't busi know\", 'tabl outsid also dirti lot time worker not alway friendli help menu', 'ambianc not feel like buffet set douchey indoor garden tea biscuit', 'con spotti servic', 'fri not hot neither burger', 'came back cold', 'food came disappoint ensu', 'real disappoint waiter', 'husband said rude not even apolog bad food or anyth', 'reason eat would fill night bing drink get carb stomach', 'insult profound deuchebaggeri go outsid smoke break serv solidifi', \"someon order two taco don't' think may part custom servic ask combo or ala cart\", 'quit disappoint although blame need place door', \"rave review couldn't wait eat disappoint\", 'del taco pretti nasti should avoid possibl', 'not hard make decent hamburg', \"don't like\", 'hell no go back', \"we'v gotten much better servic pizza place next door servic receiv restaur\", \"don't know big deal place won't back ya'al\", 'immedi said want talk manag not want talk guy shot firebal behind bar', \"ambianc isn't much better\", 'unfortun set us disapppoint entre', \"food wasn't good\", 'server suck wait correct server heimer suck', 'happen next pretti off put', 'bad caus know famili own realli want like place', 'overpr get', 'vomit bathroom mid lunch', 'kept look time soon becom 35 minut yet still no food', 'place eat no circumst would ever return top list', \"start tuna sashimi brownish color obvious wasn't fresh\", 'food averag', 'sure beat nacho movi would expect littl bit come restaur', 'ha long bay bit flop', 'problem charg 11 99 sandwich no bigger subway sub offer better amount veget', 'shrimp unwrap live 1 2 mile brushfir liter ice cold', 'lack flavor seem undercook dri', \"realli impress place hasn't close\", 'would avoid place stay mirag', 'refri bean came meal dri crusti food bland', 'spend money time place els', 'ladi tabl next us found live green caterpillar salad', 'present food aw', \"can't tell disappoint\", 'think food should flavor textur lack', 'appetit instantli gone', 'overal not impress would not go back', \"whole experi underwhelm think we'll go ninja sushi next time\", \"hadn't wast enough life pour salt wound draw time took bring check\"]\n"
     ]
    }
   ],
   "source": [
    "print(corpus)"
   ]
  },
  {
   "cell_type": "code",
   "execution_count": 103,
   "id": "9b5058d5",
   "metadata": {},
   "outputs": [],
   "source": [
    "import pickle"
   ]
  },
  {
   "cell_type": "code",
   "execution_count": 104,
   "id": "e15abcf2",
   "metadata": {},
   "outputs": [],
   "source": [
    "from sklearn.feature_extraction.text import CountVectorizer\n",
    "cv=CountVectorizer(max_features = 1500)\n",
    "X = cv.fit_transform(corpus).toarray()\n",
    "y=df.iloc[:,-1].values"
   ]
  },
  {
   "cell_type": "code",
   "execution_count": 105,
   "id": "d0fa85b6",
   "metadata": {},
   "outputs": [
    {
     "data": {
      "text/plain": [
       "1500"
      ]
     },
     "execution_count": 105,
     "metadata": {},
     "output_type": "execute_result"
    }
   ],
   "source": [
    "len(X[0])"
   ]
  },
  {
   "cell_type": "code",
   "execution_count": 106,
   "id": "4ef5e8ea",
   "metadata": {},
   "outputs": [],
   "source": [
    "# Creating a pickle file for the CountVectorizer\n",
    "pickle.dump(cv, open('cv-transform6.pkl', 'wb'))"
   ]
  },
  {
   "cell_type": "code",
   "execution_count": 107,
   "id": "0a7d634d",
   "metadata": {},
   "outputs": [],
   "source": [
    "from sklearn.model_selection import train_test_split\n",
    "X_train,X_test,y_train,y_test=train_test_split(X,y,test_size=0.2,random_state=0)"
   ]
  },
  {
   "cell_type": "code",
   "execution_count": 108,
   "id": "03a54e40",
   "metadata": {},
   "outputs": [
    {
     "name": "stdout",
     "output_type": "stream",
     "text": [
      "Accuracy score for alpha=0.0 is: 78.5%\n",
      "Accuracy score for alpha=0.1 is: 78.0%\n",
      "Accuracy score for alpha=0.2 is: 79.0%\n",
      "Accuracy score for alpha=0.3 is: 79.0%\n",
      "Accuracy score for alpha=0.4 is: 80.0%\n",
      "Accuracy score for alpha=0.5 is: 80.5%\n",
      "Accuracy score for alpha=0.6 is: 80.5%\n",
      "Accuracy score for alpha=0.7 is: 80.5%\n",
      "Accuracy score for alpha=0.8 is: 80.0%\n",
      "Accuracy score for alpha=0.9 is: 80.0%\n",
      "Accuracy score for alpha=1.0 is: 80.5%\n",
      "--------------------------------------------\n",
      "The best accuracy is 80.5% with alpha value as 0.5\n"
     ]
    },
    {
     "name": "stderr",
     "output_type": "stream",
     "text": [
      "C:\\Users\\MY PC\\AppData\\Local\\Programs\\Python\\Python310\\lib\\site-packages\\sklearn\\naive_bayes.py:555: UserWarning: alpha too small will result in numeric errors, setting alpha = 1.0e-10\n",
      "  warnings.warn(\n"
     ]
    }
   ],
   "source": [
    "best_accuracy = 0.0\n",
    "alpha_val = 0.0\n",
    "for i in np.arange(0.0,1.1,0.1):\n",
    "    temp_classifier = MultinomialNB(alpha=i)\n",
    "    temp_classifier.fit(X_train, y_train)\n",
    "    temp_y_pred = temp_classifier.predict(X_test)\n",
    "    score = accuracy_score(y_test, temp_y_pred)\n",
    "    print(\"Accuracy score for alpha={} is: {}%\".format(round(i,1), round(score*100,2)))\n",
    "    if score>best_accuracy:\n",
    "        best_accuracy = score\n",
    "        alpha_val = i\n",
    "print('--------------------------------------------')\n",
    "print('The best accuracy is {}% with alpha value as {}'.format(round(best_accuracy*100, 2), round(alpha_val,1)))"
   ]
  },
  {
   "cell_type": "code",
   "execution_count": 109,
   "id": "43170069",
   "metadata": {},
   "outputs": [
    {
     "data": {
      "text/plain": [
       "MultinomialNB(alpha=0.6)"
      ]
     },
     "execution_count": 109,
     "metadata": {},
     "output_type": "execute_result"
    }
   ],
   "source": [
    "from sklearn.naive_bayes import MultinomialNB\n",
    "classifier=MultinomialNB(alpha=0.6)\n",
    "classifier.fit(X_train,y_train)"
   ]
  },
  {
   "cell_type": "code",
   "execution_count": 110,
   "id": "49fc7b43",
   "metadata": {},
   "outputs": [],
   "source": [
    "# Creating a pickle file for the Multinomial Naive Bayes model\n",
    "filename = 'restaurant-sentiment-mnb-model6.pkl'\n",
    "pickle.dump(classifier, open(filename, 'wb'))"
   ]
  },
  {
   "cell_type": "code",
   "execution_count": 111,
   "id": "3d97165d",
   "metadata": {},
   "outputs": [],
   "source": [
    "y_model = classifier.predict(X_test)"
   ]
  },
  {
   "cell_type": "code",
   "execution_count": 112,
   "id": "f785bbea",
   "metadata": {},
   "outputs": [
    {
     "data": {
      "text/plain": [
       "array([0, 1, 0, 0, 1, 1, 1, 0, 1, 1, 0, 1, 0, 1, 0, 1, 1, 1, 1, 0, 1, 1,\n",
       "       1, 1, 1, 1, 0, 1, 1, 0, 1, 0, 1, 1, 1, 0, 0, 0, 0, 0, 0, 1, 0, 1,\n",
       "       1, 0, 0, 0, 0, 0, 1, 1, 1, 0, 0, 1, 0, 0, 1, 1, 1, 0, 0, 1, 1, 0,\n",
       "       0, 1, 0, 0, 1, 0, 0, 0, 0, 1, 0, 1, 1, 1, 1, 1, 1, 0, 1, 0, 1, 1,\n",
       "       1, 0, 0, 1, 1, 0, 0, 0, 1, 1, 0, 0, 1, 0, 0, 0, 0, 0, 0, 0, 1, 1,\n",
       "       0, 0, 1, 1, 1, 0, 0, 0, 0, 0, 0, 0, 0, 0, 1, 0, 0, 0, 1, 1, 1, 1,\n",
       "       0, 1, 0, 1, 1, 1, 0, 1, 0, 0, 1, 0, 1, 0, 0, 0, 0, 1, 1, 0, 1, 0,\n",
       "       1, 0, 1, 0, 1, 1, 1, 0, 1, 0, 0, 1, 0, 1, 0, 1, 1, 0, 0, 1, 0, 1,\n",
       "       0, 0, 1, 1, 1, 0, 0, 0, 1, 0, 1, 0, 1, 0, 0, 1, 0, 0, 0, 1, 1, 1,\n",
       "       1, 1], dtype=int64)"
      ]
     },
     "execution_count": 112,
     "metadata": {},
     "output_type": "execute_result"
    }
   ],
   "source": [
    "y_model"
   ]
  },
  {
   "cell_type": "code",
   "execution_count": 113,
   "id": "276d0a65",
   "metadata": {},
   "outputs": [
    {
     "name": "stdout",
     "output_type": "stream",
     "text": [
      "              precision    recall  f1-score   support\n",
      "\n",
      "           0       0.76      0.84      0.80        93\n",
      "           1       0.85      0.78      0.81       107\n",
      "\n",
      "    accuracy                           0.81       200\n",
      "   macro avg       0.81      0.81      0.80       200\n",
      "weighted avg       0.81      0.81      0.81       200\n",
      "\n",
      "Accuracy Score is : 0.805\n"
     ]
    }
   ],
   "source": [
    "from sklearn.metrics import classification_report,confusion_matrix\n",
    "from sklearn.metrics import accuracy_score\n",
    "print(classification_report(y_test,y_model))\n",
    "print(\"Accuracy Score is :\",accuracy_score(y_test, y_model))"
   ]
  },
  {
   "cell_type": "code",
   "execution_count": 114,
   "id": "34edc17b",
   "metadata": {},
   "outputs": [
    {
     "data": {
      "text/plain": [
       "Text(33.0, 0.5, 'Actual')"
      ]
     },
     "execution_count": 114,
     "metadata": {},
     "output_type": "execute_result"
    },
    {
     "data": {
      "image/png": "[encoded data removed]",
      "text/plain": [
       "<Figure size 432x288 with 2 Axes>"
      ]
     },
     "metadata": {
      "needs_background": "light"
     },
     "output_type": "display_data"
    }
   ],
   "source": [
    "cm=confusion_matrix(y_test,y_model)\n",
    "sns.heatmap(cm,annot=True)\n",
    "plt.xlabel('Predicted')\n",
    "plt.ylabel('Actual')"
   ]
  },
  {
   "cell_type": "code",
   "execution_count": 115,
   "id": "aee42677",
   "metadata": {},
   "outputs": [],
   "source": [
    "# To Predict new Review: (for Positive review)"
   ]
  },
  {
   "cell_type": "code",
   "execution_count": 120,
   "id": "19970f9c",
   "metadata": {},
   "outputs": [
    {
     "name": "stdout",
     "output_type": "stream",
     "text": [
      "This review is:  Positive\n"
     ]
    }
   ],
   "source": [
    "feedback = \"\"\n",
    "\n",
    "newReview = \"\"\n",
    "\n",
    "newReview = \"* Both the Hot & Sour & the Egg Flower Soups were absolutely 5 Stars!\"\n",
    "\n",
    "def predict(new_review):   \n",
    "\n",
    "        new_review = re.sub(\"[^a-zA-Z]\", \" \", new_review)   \n",
    "\n",
    "        new_review = new_review.lower().split()\n",
    "\n",
    "        new_review = [ps.stem(word) for word in new_review if word not in set(stopwords.words(\"english\"))]   \n",
    "\n",
    "        new_review = \" \".join(new_review)   \n",
    "\n",
    "        new_review = [new_review]   \n",
    "\n",
    "        new_review = cv.transform(new_review).toarray()   \n",
    "\n",
    "        if classifier.predict(new_review)[0] == 1:\n",
    "\n",
    "            return \"Positive\"   \n",
    "\n",
    "        else:       \n",
    "\n",
    "            return \"Negative\"\n",
    "\n",
    "       \n",
    "\n",
    "feedback = predict(newReview)\n",
    "\n",
    "print(\"This review is: \", feedback)"
   ]
  },
  {
   "cell_type": "code",
   "execution_count": 117,
   "id": "3fe3ed22",
   "metadata": {},
   "outputs": [],
   "source": [
    "# To Predict new Review: (for negative review)"
   ]
  },
  {
   "cell_type": "code",
   "execution_count": 121,
   "id": "2a486a28",
   "metadata": {},
   "outputs": [
    {
     "name": "stdout",
     "output_type": "stream",
     "text": [
      "This review is:  Negative\n"
     ]
    }
   ],
   "source": [
    "feedback = \"\"\n",
    "\n",
    "newReview = \"\"\n",
    "\n",
    "newReview = \"The chicken dishes are OK, the beef is like shoe leather.\"\n",
    "\n",
    "def predict(new_review):   \n",
    "\n",
    "        new_review = re.sub(\"[^a-zA-Z]\", \" \", new_review)   \n",
    "\n",
    "        new_review = new_review.lower().split()\n",
    "\n",
    "        new_review = [ps.stem(word) for word in new_review if word not in set(stopwords.words(\"english\"))]   \n",
    "\n",
    "        new_review = \" \".join(new_review)   \n",
    "\n",
    "        new_review = [new_review]   \n",
    "\n",
    "        new_review = cv.transform(new_review).toarray()   \n",
    "\n",
    "        if classifier.predict(new_review)[0] == 1:\n",
    "\n",
    "            return \"Positive\"   \n",
    "\n",
    "        else:       \n",
    "\n",
    "            return \"Negative\"\n",
    "\n",
    "       \n",
    "\n",
    "feedback = predict(newReview)\n",
    "\n",
    "print(\"This review is: \", feedback) "
   ]
  },
  {
   "cell_type": "code",
   "execution_count": 119,
   "id": "770398ea",
   "metadata": {},
   "outputs": [],
   "source": [
    "# def predict_sentiment(sample_review):\n",
    "#   sample_review = re.sub(pattern='[^a-zA-Z]',repl=' ', string = sample_review)\n",
    "#   sample_review = sample_review.lower()\n",
    "#   sample_review_words = sample_review.split()\n",
    "#   sample_review_words = [word for word in sample_review_words if not word in set(stopwords.words('english'))]\n",
    "#   ps = PorterStemmer()\n",
    "#   final_review = [ps.stem(word) for word in sample_review_words]\n",
    "#   final_review = ' '.join(final_review)\n",
    "\n",
    "#   temp = cv.transform([final_review]).toarray()\n",
    "#   return model.predict(temp)"
   ]
  },
  {
   "cell_type": "code",
   "execution_count": null,
   "id": "8ff08426",
   "metadata": {},
   "outputs": [],
   "source": []
  },
  {
   "cell_type": "code",
   "execution_count": null,
   "id": "560f28b9",
   "metadata": {},
   "outputs": [],
   "source": []
  }
 ],
 "metadata": {
  "kernelspec": {
   "display_name": "Python 3 (ipykernel)",
   "language": "python",
   "name": "python3"
  },
  "language_info": {
   "codemirror_mode": {
    "name": "ipython",
    "version": 3
   },
   "file_extension": ".py",
   "mimetype": "text/x-python",
   "name": "python",
   "nbconvert_exporter": "python",
   "pygments_lexer": "ipython3",
   "version": "3.10.0"
  }
 },
 "nbformat": 4,
 "nbformat_minor": 5
}
